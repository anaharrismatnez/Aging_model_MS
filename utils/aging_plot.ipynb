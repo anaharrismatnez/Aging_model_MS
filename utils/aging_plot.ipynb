{
 "cells": [
  {
   "cell_type": "code",
   "execution_count": 1,
   "metadata": {},
   "outputs": [],
   "source": [
    "import pandas as pd\n",
    "from matplotlib.lines import Line2D"
   ]
  },
  {
   "cell_type": "code",
   "execution_count": null,
   "metadata": {},
   "outputs": [],
   "source": [
    "df = pd.DataFrame(columns=['PBVC_aging','PBVC_GT'])"
   ]
  },
  {
   "cell_type": "code",
   "execution_count": null,
   "metadata": {},
   "outputs": [],
   "source": [
    "ax = df.plot.bar(figsize=(5,7),width=0.2)\n",
    "ax.axhline(y=df.at[0,'PBVC_aging'],color='green',linestyle='--')\n",
    "ax.axhline(y=df.at[0,'PBVC_GT'],color='green',linestyle='--')\n",
    "legend_handles = [\n",
    "    Line2D([0],[0],color='green',linestyle='--'),\n",
    "    Line2D([0],[0],lw=4),\n",
    "    Line2D([0],[0],color='orange',lw=4)\n",
    "]\n",
    "legend_labels = ['MS component', 'PBVC_aging', 'PBVC_GT']\n",
    "\n",
    "# Create a custom legend\n",
    "ax.legend(legend_handles, legend_labels)"
   ]
  }
 ],
 "metadata": {
  "kernelspec": {
   "display_name": "Python 3.8.16",
   "language": "python",
   "name": "python3"
  },
  "language_info": {
   "codemirror_mode": {
    "name": "ipython",
    "version": 3
   },
   "file_extension": ".py",
   "mimetype": "text/x-python",
   "name": "python",
   "nbconvert_exporter": "python",
   "pygments_lexer": "ipython3",
   "version": "3.8.16"
  },
  "orig_nbformat": 4,
  "vscode": {
   "interpreter": {
    "hash": "4e033cfa6d2e11b803b56085a18c083879479eb5d97d8412f8dfd4cf8e3ef73d"
   }
  }
 },
 "nbformat": 4,
 "nbformat_minor": 2
}
